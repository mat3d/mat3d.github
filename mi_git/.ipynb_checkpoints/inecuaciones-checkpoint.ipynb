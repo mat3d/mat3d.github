{
 "cells": [
  {
   "cell_type": "markdown",
   "metadata": {
    "colab_type": "text",
    "id": "j8BLxT72aKUF"
   },
   "source": [
    "Lo primero que necesitamos hacer es importar la librerias de *Python* que necesitaremos"
   ]
  },
  {
   "cell_type": "code",
   "execution_count": 1,
   "metadata": {
    "colab": {},
    "colab_type": "code",
    "id": "iW7rNRG2PMFC"
   },
   "outputs": [],
   "source": [
    "from sympy import *\n",
    "from IPython.display import Markdown as md\n",
    "from IPython.display import display\n",
    "\n",
    "from __future__ import division\n",
    "from sympy import *\n",
    "x, y, z, t = symbols('x y z t')\n",
    "k, m, n = symbols('k m n', integer=True)\n",
    "f, g, h = symbols('f g h', cls=Function)\n",
    "init_printing(use_latex=False)"
   ]
  },
  {
   "cell_type": "markdown",
   "metadata": {
    "colab_type": "text",
    "id": "KWNz6e-cRWks"
   },
   "source": [
    "## Resolviendo inecuaciones"
   ]
  },
  {
   "cell_type": "markdown",
   "metadata": {
    "colab_type": "text",
    "id": "dQwu3W1eDRU-"
   },
   "source": [
    "### Inecuaciones con  valores absolutos\n",
    "Para poder resolver inecuaciones con valores absolutos hay que utilizar la función *recuce_abs_inequality*.\n",
    "\n",
    "La función recibe tres parámetros resuelve inecuaciones con el miembro de la derecha 0 (por lo tanto hay que ):\n",
    "\n",
    "\n",
    "*   La expresión algebraica del miembro de la izquierda\n",
    "*   El símbolo de la desigualdad\n",
    "*   La variable, normalmente x\n",
    "\n",
    "\n",
    "\n"
   ]
  },
  {
   "cell_type": "markdown",
   "metadata": {
    "colab_type": "text",
    "id": "isrxjV-pYplh"
   },
   "source": [
    "#### Ejemplo:\n",
    "\n",
    "Resuelve la inecuación $$\\lvert x-2 \\rvert \\leq 1 $$\n",
    "\n",
    "\n",
    "\n",
    "> La inecuación anterior es equivalente a $\\lvert x-2 \\rvert -1 \\leq 0$  y se resuelve así:\n",
    "\n"
   ]
  },
  {
   "cell_type": "code",
   "execution_count": 2,
   "metadata": {
    "colab": {
     "base_uri": "https://localhost:8080/",
     "height": 35
    },
    "colab_type": "code",
    "id": "vVCmOj56PbAa",
    "outputId": "df3186eb-e5db-46e2-9e2b-e7aa27652657"
   },
   "outputs": [
    {
     "data": {
      "text/plain": [
       "1 ≤ x ∧ x ≤ 3"
      ]
     },
     "execution_count": 2,
     "metadata": {},
     "output_type": "execute_result"
    }
   ],
   "source": [
    "reduce_abs_inequality(Abs(x-2)-1,'<=',x)"
   ]
  },
  {
   "cell_type": "code",
   "execution_count": 3,
   "metadata": {
    "colab": {
     "base_uri": "https://localhost:8080/",
     "height": 2350
    },
    "colab_type": "code",
    "id": "xEAgD1TObj74",
    "outputId": "0104d8b6-b05d-4fbb-f336-3b054c9b2f8a"
   },
   "outputs": [
    {
     "name": "stdout",
     "output_type": "stream",
     "text": [
      "[NbConvertApp] Converting notebook inecuaciones.ipynb to markdown\n",
      "[NbConvertApp] Writing 6746 bytes to inecuaciones.md\n"
     ]
    }
   ],
   "source": [
    "!jupyter nbconvert inecuaciones.ipynb --to=markdown"
   ]
  }
 ],
 "metadata": {
  "colab": {
   "collapsed_sections": [],
   "name": "inecuaciones.ipynb",
   "provenance": [],
   "version": "0.3.2"
  },
  "kernelspec": {
   "display_name": "Python 3",
   "language": "python",
   "name": "python3"
  },
  "language_info": {
   "codemirror_mode": {
    "name": "ipython",
    "version": 3
   },
   "file_extension": ".py",
   "mimetype": "text/x-python",
   "name": "python",
   "nbconvert_exporter": "python",
   "pygments_lexer": "ipython3",
   "version": "3.6.5"
  }
 },
 "nbformat": 4,
 "nbformat_minor": 1
}
